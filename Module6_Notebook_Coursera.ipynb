{
 "cells": [
  {
   "cell_type": "markdown",
   "metadata": {},
   "source": [
    "# Final project Module 6"
   ]
  },
  {
   "cell_type": "markdown",
   "metadata": {},
   "source": [
    "The purpose of this notebook is to put into practice the content of module 6 that I have studied in theory."
   ]
  },
  {
   "cell_type": "markdown",
   "metadata": {},
   "source": [
    "Data scientist langages are : \n",
    "* R\n",
    "* Python\n",
    "* Scala "
   ]
  },
  {
   "cell_type": "markdown",
   "metadata": {},
   "source": [
    "Data scientist libraries are : \n",
    "\n",
    "* Pandas\n",
    "* Numpy\n",
    "* Matplotlib\n",
    "* Seaborn \n",
    "* Scikit-learn\n"
   ]
  },
  {
   "cell_type": "markdown",
   "metadata": {},
   "source": [
    "\n",
    "## Open Source Tools for Data sciense \n",
    "\n",
    "| *Catégorie*                    | *Outils*                                                                                                            |\n",
    "|--------------------------------|-------------------------------------------------------------------------------------------------------------------|\n",
    "| *Gestion des données*          | MySQL, PostgreSQL, MongoDB, Apache CouchDB, Apache Cassandra, Hadoop File System, Ceph, Elasticsearch               |\n",
    "| *Intégration & Transformation* | Apache AirFlow, KubeFlow, Apache Kafka, Apache Nifi, Apache SparkSQL, NodeRED                                       |\n",
    "| *Visualisation des données*    | Pixie Dust, Hue, Kibana, Apache Superset                                                                            |\n",
    "| *Déploiement de modèles*       | Apache PredictionIO, Seldon, Kubernetes, Redhat OpenShift, MLeap, TensorFlow Serving, TensorFlow Lite, TensorFlow.js|\n",
    "| *Surveillance des modèles*     | ModelDB, Prometheus, IBM AI Fairness 360, IBM Adversarial Robustness 360 Toolbox, IBM AI Explainability 360         |\n",
    "| *Gestion de code source*       | Git, GitHub, GitLab, Bitbucket                                                                                      |\n",
    "| *Gestion des actifs de données*| Apache Atlas, ODPi Egeria, Kylo \n",
    "| *Gestion des données*          | MySQL, PostgreSQL, MongoDB, Apache CouchDB, Apache Cassandra, Hadoop File System, Ceph, Elasticsearch              |\n",
    "| *Intégration & Transformation* | Apache AirFlow, KubeFlow, Apache Kafka, Apache Nifi, Apache SparkSQL, NodeRED                                       |\n",
    "| *Visualisation des données*    | Pixie Dust, Hue, Kibana, Apache Superset                                                                            |\n",
    "| *Déploiement de modèles*       | Apache PredictionIO, Seldon, Kubernetes, Redhat OpenShift, MLeap, TensorFlow Serving, TensorFlow Lite, TensorFlow.js|\n",
    "| *Surveillance des modèles*     | ModelDB, Prometheus, IBM AI Fairness 360, IBM Adversarial Robustness 360 Toolbox, IBM AI Explainability 360         |\n",
    "| *Gestion de code source*       | Git, GitHub, GitLab, Bitbucket                                                                                      |\n",
    "| *Gestion des actifs de données*| Apache Atlas, ODPi Egeria, Kylo                                                                                     |\n",
    "\n",
    "## Commercial Tools for Data science \n",
    "\n",
    "| *Catégorie*                     | *Outils*                                                                                                           |\n",
    "|---------------------------------|--------------------------------------------------------------------------------------------------------------------- |\n",
    "| *Gestion des données*           | Oracle Database, Microsoft SQL Server, IBM Db2                                                                      |\n",
    "| *Intégration & Transformation des données*|Informatica PowerCenter, IBM InfoSphere DataStage, SAP, Oracle, SAS, Talend, Microsoft, Watson Studio  Desktop   |\n",
    "| *Visualisation des données*         | Tableau, Microsoft Power BI, IBM Cognos Analytics, Watson Studio Desktop                                        |\n",
    "| *Construction de modèles*           | SPSS Modeler, SAS Enterprise Miner, Watson Studio Desktop                                                       |\n",
    "| *Déploiement de modèles*            | SPSS Collaboration and Deployment Services, Watson Studio, Watson Open Scale                                    |\n",
    "| *Gestion des actifs de données*     | Informatica Enterprise Data Governance, IBM Information Governance Catalog                                      |\n",
    "| *Environnements de développement intégrés* | Watson Studio, Watson Open Scale, H2O Driverless AI                                                      |\n",
    "\n",
    "## Cloud Based Tools For Data science \n",
    "\n",
    "| *Catégorie*                         | *Outils*                                                                                                        |\n",
    "|------------------------|--------------------------------------------------------------------------------------------------------------|\n",
    "| *Plateformes visuelles intégrées*   | Watson Studio, Watson OpenScale, Microsoft Azure Machine Learning, H2O Driverless AI                              |\n",
    "| *Gestion des données (SaaS)*        | Amazon DynamoDB, Cloudant (basé sur Apache CouchDB), IBM Db2 (SaaS)                                               |\n",
    "| *Intégration & Transformation des données (ETL/ELT)* | Informatica Cloud Data Integration, IBM Data Refinery (partie de Watson Studio)                  |\n",
    "| *Visualisation des données*         | Datameer, IBM Cognos Analytics (cloud), IBM Data Refinery (Watson Studio)                                         |\n",
    "| *Construction de modèles*           | Watson Machine Learning, Google AI Platform Training                                                              |\n",
    "| *Déploiement de modèles*        | SPSS Collaboration and Deployment Services, Watson Machine Learning, Amazon SageMaker Model Monitor, Watson OpenScale |\n",
    "                                                                                   \n",
    "\n",
    "\n"
   ]
  },
  {
   "cell_type": "markdown",
   "metadata": {},
   "source": [
    "### Arithmetic Expression Examples : \n",
    "\n",
    "1. **Addition**: `10 + 3 = 13`\n",
    "2. **Subtraction**: `20 - 5 = 15`"
   ]
  },
  {
   "cell_type": "code",
   "execution_count": 4,
   "metadata": {},
   "outputs": [
    {
     "name": "stdout",
     "output_type": "stream",
     "text": [
      "Le résultat de 3 * 4 + 5 est 17\n"
     ]
    }
   ],
   "source": [
    "# Multiplication de deux nombres\n",
    "a = 3\n",
    "b = 4\n",
    "c = 5\n",
    "# This simple arithmetic expression to multiply then add integers\n",
    "final_result =(a * b) + c\n",
    "\n",
    "\n",
    "# Afficha\n",
    "print(f\"Le résultat de {a} * {b} + {c} est {final_result}\")\n",
    "\n"
   ]
  },
  {
   "cell_type": "code",
   "execution_count": 6,
   "metadata": {},
   "outputs": [
    {
     "name": "stdout",
     "output_type": "stream",
     "text": [
      "200 minutes correspond à 3.3333333333333335 heures\n"
     ]
    }
   ],
   "source": [
    "## Convert minutes to hours \n",
    "\n",
    "minutes = 200 \n",
    "\n",
    "# This will convert 200 to hours by diving by 60\n",
    "hours = minutes / 60\n",
    "\n",
    "# Affichage du résultat\n",
    "print(f\"{minutes} minutes correspond à {hours} heures\")\n",
    "\n"
   ]
  },
  {
   "cell_type": "markdown",
   "metadata": {},
   "source": [
    "**Objectives** : \n",
    "\n",
    "* List popular tools for Data Science.\n",
    "* List popular libraries for Data Science.\n",
    "* List popular languages for Data Science.\n"
   ]
  },
  {
   "cell_type": "markdown",
   "metadata": {},
   "source": [
    "## Author\n",
    "Meryem TALBI"
   ]
  }
 ],
 "metadata": {
  "kernelspec": {
   "display_name": "base",
   "language": "python",
   "name": "python3"
  },
  "language_info": {
   "codemirror_mode": {
    "name": "ipython",
    "version": 3
   },
   "file_extension": ".py",
   "mimetype": "text/x-python",
   "name": "python",
   "nbconvert_exporter": "python",
   "pygments_lexer": "ipython3",
   "version": "3.9.7"
  }
 },
 "nbformat": 4,
 "nbformat_minor": 2
}
